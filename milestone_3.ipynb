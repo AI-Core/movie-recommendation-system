{
  "cells": [
    {
      "cell_type": "markdown",
      "metadata": {
        "id": "i_xLFYD8a_h3"
      },
      "source": [
        "# Movie Recommendation - Milestone 3\n"
      ]
    },
    {
      "cell_type": "markdown",
      "metadata": {},
      "source": [
        "<details>\n",
        "  <summary>Click in any of these links to compare your solution with ours up to this point</summary>\n",
        "  <p>\n",
        "    <a href=\"https://colab.research.google.com/github/AI-Core/movie-recommendation-system/blob/main/milestone_1.ipynb\" target=\"_parent\">Solution for milestone 1</a>\n",
        "  </p>\n",
        "    <p>\n",
        "        <a href=\"https://colab.research.google.com/github/AI-Core/movie-recommendation-system/blob/main/milestone_3.ipynb\" target=\"_parent\">Solution for milestone 3</a>\n",
        "    </p>\n",
        "</details>"
      ]
    },
    {
      "cell_type": "code",
      "execution_count": 1,
      "metadata": {
        "colab": {
          "base_uri": "https://localhost:8080/"
        },
        "id": "RLn-_E7Ba3Q4",
        "outputId": "ffd8ab8a-cb3c-4a5d-d625-231a729b1b9a"
      },
      "outputs": [
        {
          "name": "stdout",
          "output_type": "stream",
          "text": [
            "Requirement already satisfied: movie-rec-marking-aicore in /home/ivanyingx/miniconda3/lib/python3.9/site-packages (0.0.4)\n",
            "Collecting movie-rec-marking-aicore\n",
            "  Downloading movie-rec-marking-aicore-0.0.5.tar.gz (2.6 kB)\n",
            "Building wheels for collected packages: movie-rec-marking-aicore\n",
            "  Building wheel for movie-rec-marking-aicore (setup.py) ... \u001b[?25ldone\n",
            "\u001b[?25h  Created wheel for movie-rec-marking-aicore: filename=movie_rec_marking_aicore-0.0.5-py3-none-any.whl size=3556 sha256=209e45efbfd756aac5c438bc73cd9c08db1ac13faead26800078d6ddd2ca716e\n",
            "  Stored in directory: /home/ivanyingx/.cache/pip/wheels/a3/1e/ca/a75cc752d79b20807afe0202e7d70446c2417adea130ab2c2d\n",
            "Successfully built movie-rec-marking-aicore\n",
            "Installing collected packages: movie-rec-marking-aicore\n",
            "  Attempting uninstall: movie-rec-marking-aicore\n",
            "    Found existing installation: movie-rec-marking-aicore 0.0.4\n",
            "    Uninstalling movie-rec-marking-aicore-0.0.4:\n",
            "      Successfully uninstalled movie-rec-marking-aicore-0.0.4\n",
            "Successfully installed movie-rec-marking-aicore-0.0.5\n",
            "--2022-12-04 13:12:36--  https://aicore-files.s3.amazonaws.com/Movie-Recommendation/movies.json\n",
            "Resolving aicore-files.s3.amazonaws.com (aicore-files.s3.amazonaws.com)... 52.217.78.44, 52.217.78.52, 3.5.17.0, ...\n",
            "Connecting to aicore-files.s3.amazonaws.com (aicore-files.s3.amazonaws.com)|52.217.78.44|:443... connected.\n",
            "HTTP request sent, awaiting response... 200 OK\n",
            "Length: 158540 (155K) [application/json]\n",
            "Saving to: ‘movies.json’\n",
            "\n",
            "movies.json         100%[===================>] 154,82K   550KB/s    in 0,3s    \n",
            "\n",
            "2022-12-04 13:12:37 (550 KB/s) - ‘movies.json’ saved [158540/158540]\n",
            "\n"
          ]
        },
        {
          "ename": "ImportError",
          "evalue": "cannot import name 'test_milestone_3' from 'movie_rec_marking' (/home/ivanyingx/miniconda3/lib/python3.9/site-packages/movie_rec_marking/__init__.py)",
          "output_type": "error",
          "traceback": [
            "\u001b[0;31m---------------------------------------------------------------------------\u001b[0m",
            "\u001b[0;31mImportError\u001b[0m                               Traceback (most recent call last)",
            "\u001b[0;32m<ipython-input-1-1c9dc0648975>\u001b[0m in \u001b[0;36m<module>\u001b[0;34m\u001b[0m\n\u001b[1;32m      3\u001b[0m \u001b[0mget_ipython\u001b[0m\u001b[0;34m(\u001b[0m\u001b[0;34m)\u001b[0m\u001b[0;34m.\u001b[0m\u001b[0msystem\u001b[0m\u001b[0;34m(\u001b[0m\u001b[0;34m'wget https://aicore-files.s3.amazonaws.com/Movie-Recommendation/movies.json'\u001b[0m\u001b[0;34m)\u001b[0m\u001b[0;34m\u001b[0m\u001b[0;34m\u001b[0m\u001b[0m\n\u001b[1;32m      4\u001b[0m \u001b[0;34m\u001b[0m\u001b[0m\n\u001b[0;32m----> 5\u001b[0;31m \u001b[0;32mfrom\u001b[0m \u001b[0mmovie_rec_marking\u001b[0m \u001b[0;32mimport\u001b[0m \u001b[0mtest_milestone_3\u001b[0m\u001b[0;34m\u001b[0m\u001b[0;34m\u001b[0m\u001b[0m\n\u001b[0m",
            "\u001b[0;31mImportError\u001b[0m: cannot import name 'test_milestone_3' from 'movie_rec_marking' (/home/ivanyingx/miniconda3/lib/python3.9/site-packages/movie_rec_marking/__init__.py)"
          ]
        }
      ],
      "source": [
        "#@title # Run this cell to download the \"movies.json\" file. After running this, the file will be available in your workspace { display-mode: \"form\" }\n",
        "!pip install movie-rec-marking-aicore --upgrade\n",
        "!wget https://aicore-files.s3.amazonaws.com/Movie-Recommendation/movies.json\n",
        "\n",
        "from movie_rec_marking import test_milestone_3"
      ]
    },
    {
      "cell_type": "code",
      "execution_count": 2,
      "metadata": {},
      "outputs": [],
      "source": [
        "import json\n",
        "with open(\"movies.json\", \"r\") as f:\n",
        "    movies = json.load(f)"
      ]
    },
    {
      "cell_type": "code",
      "execution_count": 6,
      "metadata": {},
      "outputs": [
        {
          "data": {
            "text/plain": [
              "11"
            ]
          },
          "execution_count": 6,
          "metadata": {},
          "output_type": "execute_result"
        }
      ],
      "source": [
        "all_genres = set()\n",
        "for movie in movies:\n",
        "    genre = movie[\"genre\"]\n",
        "    all_genres.add(genre)\n",
        "\n",
        "len(all_genres)"
      ]
    },
    {
      "cell_type": "markdown",
      "metadata": {
        "id": "MYQw48Lqa3Q4"
      },
      "source": [
        "# Task 1 \n",
        "### Load in the Full Movies Dataset from a File\n",
        "\n",
        "So far, the movies variable was initialised for you, but in this task, the list of movies is larger and are stored in a JSON (JavaScript Object Notation) file. The file is already available in this workspace if you ran the code cell above."
      ]
    },
    {
      "cell_type": "code",
      "execution_count": null,
      "metadata": {
        "id": "1UpT9BAym0iW"
      },
      "outputs": [],
      "source": [
        "## Write your code here"
      ]
    },
    {
      "cell_type": "code",
      "execution_count": null,
      "metadata": {},
      "outputs": [],
      "source": [
        "#@title Run this cell to check your solution { display-mode: \"form\", run: \"auto\" }\n",
        "\n",
        "assert 'load_movies_data' in globals(), \"Please define the function load_movies_data\"\n",
        "task_1 = test_milestone_3.check_load_movies_data(load_movies_data)"
      ]
    },
    {
      "cell_type": "markdown",
      "metadata": {},
      "source": [
        "# Task 2 \n",
        "\n",
        "### What are the Unique Genres?"
      ]
    },
    {
      "cell_type": "code",
      "execution_count": null,
      "metadata": {},
      "outputs": [],
      "source": [
        "## Write your code here"
      ]
    },
    {
      "cell_type": "code",
      "execution_count": null,
      "metadata": {},
      "outputs": [],
      "source": [
        "#@title Run this cell to check your solution { display-mode: \"form\", run: \"auto\" }\n",
        "\n",
        "assert 'get_unique_genres' in globals(), \"Please define the function get_unique_genres\"\n",
        "task_2 = test_milestone_3.check_get_unique_genres(get_unique_genres, task_1)"
      ]
    },
    {
      "cell_type": "markdown",
      "metadata": {},
      "source": [
        "# Task 3\n",
        "\n",
        "### Filter by Genre"
      ]
    },
    {
      "cell_type": "code",
      "execution_count": null,
      "metadata": {},
      "outputs": [],
      "source": [
        "## Write your code here"
      ]
    },
    {
      "cell_type": "code",
      "execution_count": null,
      "metadata": {},
      "outputs": [],
      "source": [
        "#@title Run this cell to check your solution { display-mode: \"form\", run: \"auto\" }\n",
        "\n",
        "assert 'get_movies_in_genre' in globals(), \"Please define the function get_movies_in_genre\"\n",
        "task_3 = test_milestone_3.check_get_movies_in_genre(get_movies_in_genre, task_2)"
      ]
    }
  ],
  "metadata": {
    "colab": {
      "provenance": []
    },
    "kernelspec": {
      "display_name": "Python 3.9.5 ('base')",
      "language": "python",
      "name": "python3"
    },
    "language_info": {
      "codemirror_mode": {
        "name": "ipython",
        "version": 3
      },
      "file_extension": ".py",
      "mimetype": "text/x-python",
      "name": "python",
      "nbconvert_exporter": "python",
      "pygments_lexer": "ipython3",
      "version": "3.9.5"
    },
    "orig_nbformat": 4,
    "vscode": {
      "interpreter": {
        "hash": "ce99af5845ff7f417c6fe57e3883abe41597db90e3f493c4f9da5159bbc46102"
      }
    }
  },
  "nbformat": 4,
  "nbformat_minor": 0
}
