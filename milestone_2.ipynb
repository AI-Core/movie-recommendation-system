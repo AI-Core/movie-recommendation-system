{
  "cells": [
    {
      "cell_type": "markdown",
      "metadata": {
        "id": "i_xLFYD8a_h3"
      },
      "source": [
        "# Movie Recommendation - Milestone 2\n",
        "\n",
        "<details>\n",
        "    <summary>Click here to check the instructions</summary>\n",
        "\n",
        "    To complete this project, you need to follow the instructions you see on the AiCore portal. \n",
        "\n",
        "    This notebook allows you to write your code and run it, and once you have your solution ready, you can submit it using the form at each step.\n",
        "\n",
        "    For example, for the first task, you need to check how many movies are in the list of movies. You can do this by writing your code in the cell that says `# Task 1` and then running the cell. You can run the cell by clicking the play button on the left of the cell, or by pressing `Shift + Enter`.\n",
        "\n",
        "    Once you have a solution, the next cell will contain a form that you can use to submit your solution. You can submit your solution by clicking on the play button on the left of the cell, and then entering your solution in the form that appears. You can submit your solution as many times as you want, and the last submission will be considered as your final solution.\n",
        "</details>"
      ]
    },
    {
      "cell_type": "code",
      "execution_count": 1,
      "metadata": {
        "colab": {
          "base_uri": "https://localhost:8080/"
        },
        "id": "RLn-_E7Ba3Q4",
        "outputId": "ffd8ab8a-cb3c-4a5d-d625-231a729b1b9a"
      },
      "outputs": [
        {
          "name": "stdout",
          "output_type": "stream",
          "text": [
            "Collecting movie-rec-marking-aicore\n",
            "  Downloading movie-rec-marking-aicore-0.0.1.tar.gz (1.3 kB)\n",
            "Requirement already satisfied: requests in /home/ivanyingx/miniconda3/lib/python3.9/site-packages (from movie-rec-marking-aicore) (2.25.1)\n",
            "Requirement already satisfied: timeout-decorator in /home/ivanyingx/miniconda3/lib/python3.9/site-packages (from movie-rec-marking-aicore) (0.5.0)\n",
            "Requirement already satisfied: chardet<5,>=3.0.2 in /home/ivanyingx/miniconda3/lib/python3.9/site-packages (from requests->movie-rec-marking-aicore) (4.0.0)\n",
            "Requirement already satisfied: certifi>=2017.4.17 in /home/ivanyingx/miniconda3/lib/python3.9/site-packages (from requests->movie-rec-marking-aicore) (2021.10.8)\n",
            "Requirement already satisfied: urllib3<1.27,>=1.21.1 in /home/ivanyingx/miniconda3/lib/python3.9/site-packages (from requests->movie-rec-marking-aicore) (1.26.6)\n",
            "Requirement already satisfied: idna<3,>=2.5 in /home/ivanyingx/miniconda3/lib/python3.9/site-packages (from requests->movie-rec-marking-aicore) (2.10)\n",
            "Building wheels for collected packages: movie-rec-marking-aicore\n",
            "  Building wheel for movie-rec-marking-aicore (setup.py) ... \u001b[?25ldone\n",
            "\u001b[?25h  Created wheel for movie-rec-marking-aicore: filename=movie_rec_marking_aicore-0.0.1-py3-none-any.whl size=1905 sha256=3e89a3152610f950e4cf810dd757a43089a473f17c7aadce8ae5e1143afd87d6\n",
            "  Stored in directory: /home/ivanyingx/.cache/pip/wheels/d8/88/de/84ec5b7a5cee5097a4bb029dbb78c2d46048f929c5a091d833\n",
            "Successfully built movie-rec-marking-aicore\n",
            "Installing collected packages: movie-rec-marking-aicore\n",
            "Successfully installed movie-rec-marking-aicore-0.0.1\n",
            "--2022-12-02 14:42:21--  https://aicore-files.s3.amazonaws.com/Movie-Recommendation/movies.json\n",
            "Resolving aicore-files.s3.amazonaws.com (aicore-files.s3.amazonaws.com)... 52.217.169.25, 52.216.232.115, 52.217.38.244, ...\n",
            "Connecting to aicore-files.s3.amazonaws.com (aicore-files.s3.amazonaws.com)|52.217.169.25|:443... connected.\n",
            "HTTP request sent, awaiting response... 200 OK\n",
            "Length: 158540 (155K) [application/json]\n",
            "Saving to: ‘movies.json’\n",
            "\n",
            "movies.json         100%[===================>] 154,82K   516KB/s    in 0,3s    \n",
            "\n",
            "2022-12-02 14:42:22 (516 KB/s) - ‘movies.json’ saved [158540/158540]\n",
            "\n"
          ]
        }
      ],
      "source": [
        "#@title # Run this cell to install and import the necessary tools for the project { display-mode: \"form\" }\n",
        "!pip install movie-rec-marking-aicore\n",
        "!wget https://aicore-files.s3.amazonaws.com/Movie-Recommendation/movies.json\n",
        "import os\n",
        "import json\n",
        "import ipywidgets as widgets\n",
        "from IPython.display import display\n",
        "from movie_rec_marking import test_milestone_1\n",
        "\n",
        "# Load the movies\n",
        "with open('movies.json', 'r') as f:\n",
        "    movies = json.load(f)"
      ]
    },
    {
      "cell_type": "markdown",
      "metadata": {
        "id": "MYQw48Lqa3Q4"
      },
      "source": [
        "# Task 1 \n",
        "### Show Every Movie Name"
      ]
    },
    {
      "cell_type": "code",
      "execution_count": 3,
      "metadata": {
        "id": "1UpT9BAym0iW"
      },
      "outputs": [],
      "source": [
        "## Write your code here"
      ]
    },
    {
      "cell_type": "markdown",
      "metadata": {},
      "source": [
        "# Task 2 \n",
        "\n",
        "### What is the Length of a Given Movie's Description?"
      ]
    },
    {
      "cell_type": "code",
      "execution_count": null,
      "metadata": {},
      "outputs": [],
      "source": [
        "## Write your code here"
      ]
    },
    {
      "cell_type": "markdown",
      "metadata": {},
      "source": [
        "# Task 3\n",
        "\n",
        "### What is the Average Length of any Movie Description?"
      ]
    },
    {
      "cell_type": "code",
      "execution_count": null,
      "metadata": {},
      "outputs": [],
      "source": [
        "## Write your code here"
      ]
    },
    {
      "cell_type": "markdown",
      "metadata": {},
      "source": [
        "# Task 4\n",
        "\n",
        "### What is the Maximum Length of any Movie Name?"
      ]
    },
    {
      "cell_type": "code",
      "execution_count": null,
      "metadata": {},
      "outputs": [],
      "source": [
        "## Write your code here"
      ]
    },
    {
      "cell_type": "markdown",
      "metadata": {},
      "source": [
        "### Check the solutions by clicking this button\n",
        "\n",
        "[![Check the solutions here](https://colab.research.google.com/assets/colab-badge.svg)](https://colab.research.google.com/github/AI-Core/movie-recommendation-solutions/blob/main/solution_m2.ipynb)"
      ]
    },
    {
      "cell_type": "code",
      "execution_count": null,
      "metadata": {},
      "outputs": [],
      "source": []
    }
  ],
  "metadata": {
    "colab": {
      "provenance": []
    },
    "kernelspec": {
      "display_name": "Python 3.9.5 ('base')",
      "language": "python",
      "name": "python3"
    },
    "language_info": {
      "codemirror_mode": {
        "name": "ipython",
        "version": 3
      },
      "file_extension": ".py",
      "mimetype": "text/x-python",
      "name": "python",
      "nbconvert_exporter": "python",
      "pygments_lexer": "ipython3",
      "version": "3.9.5"
    },
    "orig_nbformat": 4,
    "vscode": {
      "interpreter": {
        "hash": "ce99af5845ff7f417c6fe57e3883abe41597db90e3f493c4f9da5159bbc46102"
      }
    }
  },
  "nbformat": 4,
  "nbformat_minor": 0
}
