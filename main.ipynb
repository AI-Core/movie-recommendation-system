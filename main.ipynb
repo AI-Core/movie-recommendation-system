{
 "cells": [
  {
   "cell_type": "markdown",
   "metadata": {},
   "source": [
    "[![Open In Colab](https://colab.research.google.com/assets/colab-badge.svg)](https://colab.research.google.com/github/IvanYingX/colab_test/blob/main/main.ipynb)"
   ]
  },
  {
   "cell_type": "code",
   "execution_count": 1,
   "metadata": {},
   "outputs": [
    {
     "name": "stdout",
     "output_type": "stream",
     "text": [
      "Requirement already satisfied: hangman-marking-mock in /home/ivanyingx/miniconda3/lib/python3.9/site-packages (0.0.1)\n",
      "Requirement already satisfied: timeout-decorator in /home/ivanyingx/miniconda3/lib/python3.9/site-packages (from hangman-marking-mock) (0.5.0)\n",
      "Requirement already satisfied: requests in /home/ivanyingx/miniconda3/lib/python3.9/site-packages (from hangman-marking-mock) (2.25.1)\n",
      "Requirement already satisfied: chardet<5,>=3.0.2 in /home/ivanyingx/miniconda3/lib/python3.9/site-packages (from requests->hangman-marking-mock) (4.0.0)\n",
      "Requirement already satisfied: idna<3,>=2.5 in /home/ivanyingx/miniconda3/lib/python3.9/site-packages (from requests->hangman-marking-mock) (2.10)\n",
      "Requirement already satisfied: certifi>=2017.4.17 in /home/ivanyingx/miniconda3/lib/python3.9/site-packages (from requests->hangman-marking-mock) (2021.10.8)\n",
      "Requirement already satisfied: urllib3<1.27,>=1.21.1 in /home/ivanyingx/miniconda3/lib/python3.9/site-packages (from requests->hangman-marking-mock) (1.26.6)\n"
     ]
    }
   ],
   "source": [
    "# Add a title and hide it by default\n",
    "#@title Run this cell to install and import the necessary tools for the project { display-mode: \"form\" }\n",
    "!pip install hangman-marking-mock\n",
    "import os\n",
    "import ipywidgets as widgets\n",
    "from IPython.display import display\n",
    "from test_hangman import test_mocks\n",
    "os.environ['USER_ID'] = '1234'"
   ]
  },
  {
   "cell_type": "markdown",
   "metadata": {},
   "source": [
    "# Milestone 1, Task 1\n",
    "\n",
    "In this task you will create a list with 5 different fruits. Write your code in the next cell, and when you are ready, click the button in the next one. Don't delete anything in the hidden cell, doing so will force the notebook to start from the beginning. "
   ]
  },
  {
   "cell_type": "code",
   "execution_count": null,
   "metadata": {},
   "outputs": [],
   "source": [
    "# Your code here\n"
   ]
  },
  {
   "cell_type": "code",
   "execution_count": null,
   "metadata": {},
   "outputs": [],
   "source": [
    "#@title Click the \"Verify\" button below to correct milestone 1, task 1\n",
    "#@markdown Please, don't delete any code in this cell. \n",
    "\n",
    "button = widgets.Button(description=\"Verify\")\n",
    "output = widgets.Output()\n",
    "\n",
    "def on_button_clicked(b):\n",
    "  # Display the message within the output widget.\n",
    "    assert 'my_list' in globals(), 'You haven\\'t created a list called my_list'\n",
    "    with output:\n",
    "        test_mocks.check_list_length(my_list)\n",
    "    print('Good job!')\n",
    "\n",
    "button.on_click(on_button_clicked)\n",
    "display(button, output)"
   ]
  },
  {
   "cell_type": "code",
   "execution_count": null,
   "metadata": {},
   "outputs": [],
   "source": []
  }
 ],
 "metadata": {
  "kernelspec": {
   "display_name": "Python 3.9.5 ('base')",
   "language": "python",
   "name": "python3"
  },
  "language_info": {
   "codemirror_mode": {
    "name": "ipython",
    "version": 3
   },
   "file_extension": ".py",
   "mimetype": "text/x-python",
   "name": "python",
   "nbconvert_exporter": "python",
   "pygments_lexer": "ipython3",
   "version": "3.9.5"
  },
  "orig_nbformat": 4,
  "vscode": {
   "interpreter": {
    "hash": "ce99af5845ff7f417c6fe57e3883abe41597db90e3f493c4f9da5159bbc46102"
   }
  }
 },
 "nbformat": 4,
 "nbformat_minor": 2
}
